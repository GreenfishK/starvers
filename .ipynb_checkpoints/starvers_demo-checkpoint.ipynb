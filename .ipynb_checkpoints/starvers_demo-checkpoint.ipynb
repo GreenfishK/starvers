{
 "cells": [
  {
   "cell_type": "code",
   "execution_count": null,
   "metadata": {},
   "outputs": [],
   "source": [
    "pip install ."
   ]
  },
  {
   "cell_type": "markdown",
   "metadata": {},
   "source": [
    "# Set up connection to RDF store"
   ]
  },
  {
   "cell_type": "code",
   "execution_count": 1,
   "metadata": {},
   "outputs": [],
   "source": [
    "from starvers.starvers import TripleStoreEngine\n",
    "\n",
    "get_endpoint = \"http://ThinkPad-T14s-FK:7200/repositories/hust_demo\"\n",
    "post_endpoint = \"http://ThinkPad-T14s-FK:7200/repositories/hust_demo/statements\"\n",
    "engine = TripleStoreEngine(get_endpoint, post_endpoint)"
   ]
  },
  {
   "cell_type": "markdown",
   "metadata": {},
   "source": [
    "# Clear repository"
   ]
  },
  {
   "cell_type": "code",
   "execution_count": 2,
   "metadata": {},
   "outputs": [
    {
     "data": {
      "text/plain": [
       "<SPARQLWrapper.Wrapper.QueryResult at 0x7fe98419d4f0>"
      ]
     },
     "execution_count": 2,
     "metadata": {},
     "output_type": "execute_result"
    }
   ],
   "source": [
    "from SPARQLWrapper import SPARQLWrapper, POST, DIGEST, GET, JSON\n",
    "\n",
    "sparql_post = SPARQLWrapper(post_endpoint)\n",
    "sparql_post.setHTTPAuth(DIGEST)\n",
    "sparql_post.setMethod(POST)\n",
    "\n",
    "clear = \"\"\"\n",
    "clear default\n",
    "\"\"\"\n",
    "sparql_post.setQuery(clear)\n",
    "sparql_post.query()"
   ]
  },
  {
   "cell_type": "markdown",
   "metadata": {},
   "source": [
    "# Load initial dataset"
   ]
  },
  {
   "cell_type": "code",
   "execution_count": 3,
   "metadata": {},
   "outputs": [
    {
     "data": {
      "text/plain": [
       "<SPARQLWrapper.Wrapper.QueryResult at 0x7fe93f384f70>"
      ]
     },
     "execution_count": 3,
     "metadata": {},
     "output_type": "execute_result"
    }
   ],
   "source": [
    "# <http://example.com/Nguyen_Van_Anh> <http://example.com/occupation> <http://example.com/tour_guide>\n",
    "# <http://example.com/Tran_Thi_Thu> <http://example.com/occupation> <http://example.com/tour_guide>\n",
    "\n",
    "insert = \"\"\"\n",
    "insert data {\n",
    "    <http://example.com/Obama>  <http://example.com/occupation> <http://example.com/President> .\n",
    "    <http://example.com/Hamilton>  <http://example.com/occupation>  <http://example.com/Formel1Driver> .\n",
    "}\n",
    "\n",
    "\"\"\"\n",
    "sparql_post.setQuery(insert)\n",
    "sparql_post.query()"
   ]
  },
  {
   "cell_type": "markdown",
   "metadata": {},
   "source": [
    "# Version all row"
   ]
  },
  {
   "cell_type": "code",
   "execution_count": 4,
   "metadata": {},
   "outputs": [],
   "source": [
    "import tzlocal\n",
    "from datetime import datetime, timedelta, timezone\n",
    "initial_timestamp = datetime(2022, 10, 12, 14, 43, 21, 941000, timezone(timedelta(hours=2)))\n",
    "engine.version_all_triples(initial_timestamp)"
   ]
  },
  {
   "cell_type": "markdown",
   "metadata": {},
   "source": [
    "# Insert new triples"
   ]
  },
  {
   "cell_type": "code",
   "execution_count": 5,
   "metadata": {},
   "outputs": [],
   "source": [
    "# <http://example.com/Le_Van_Thanh> <http://example.com/occupation> <http://example.com/travel_blogger>\n",
    "\n",
    "new_triples = ['<http://example.com/Brad_Pitt> <http://example.com/occupation> <http://example.com/Limo_Driver> .',\n",
    "        '<http://example.com/Frank_Sinatra> <http://example.com/occupation> <http://example.com/Singer> .']\n",
    "engine.insert(new_triples)"
   ]
  },
  {
   "cell_type": "markdown",
   "metadata": {},
   "source": [
    "# Update triples"
   ]
  },
  {
   "cell_type": "code",
   "execution_count": 6,
   "metadata": {},
   "outputs": [],
   "source": [
    "# <http://example.com/Nguyen_Van_Anh> <http://example.com/occupation> <http://example.com/tour_guide>\n",
    "# None None <http://example.com/hotel_manager>\n",
    "\n",
    "\n",
    "engine.update(\n",
    "old_triples=[['<http://example.com/Obama>', '<http://example.com/occupation>' ,'<http://example.com/President>'],\n",
    "             ['<http://example.com/Brad_Pitt>', '<http://example.com/occupation>', '<http://example.com/Limo_Driver>']],\n",
    "new_triples=[['<http://example.com/Donald_Trump>', None, None],\n",
    "             [None, None, '<http://example.com/Actor>']])"
   ]
  },
  {
   "cell_type": "markdown",
   "metadata": {},
   "source": [
    "# Delete triples"
   ]
  },
  {
   "cell_type": "code",
   "execution_count": 7,
   "metadata": {},
   "outputs": [],
   "source": [
    "# <http://example.com/Nguyen_Van_Anh> <http://example.com/occupation> <http://example.com/hotel_manager>\n",
    "\n",
    "engine.outdate(['<http://example.com/Donald_Trump> <http://example.com/occupation> <http://example.com/President> .'])"
   ]
  },
  {
   "cell_type": "markdown",
   "metadata": {},
   "source": [
    "# Query actual data"
   ]
  },
  {
   "cell_type": "code",
   "execution_count": 8,
   "metadata": {},
   "outputs": [
    {
     "name": "stdout",
     "output_type": "stream",
     "text": [
      "                             person                        occupation\n",
      "0       http://example.com/Hamilton  http://example.com/Formel1Driver\n",
      "1      http://example.com/Brad_Pitt          http://example.com/Actor\n",
      "2  http://example.com/Frank_Sinatra         http://example.com/Singer\n"
     ]
    }
   ],
   "source": [
    "query = \"\"\"\n",
    "PREFIX vers: <https://github.com/GreenfishK/DataCitation/versioning/>\n",
    "\n",
    "SELECT ?person ?occupation {\n",
    "    ?person <http://example.com/occupation> ?occupation .\n",
    "}\n",
    "\"\"\"\n",
    "\n",
    "actual_snapshot = engine.query(query)\n",
    "print(actual_snapshot)"
   ]
  },
  {
   "cell_type": "markdown",
   "metadata": {},
   "source": [
    "# Query historical data"
   ]
  },
  {
   "cell_type": "code",
   "execution_count": 9,
   "metadata": {},
   "outputs": [
    {
     "name": "stdout",
     "output_type": "stream",
     "text": [
      "                        person                        occupation\n",
      "0     http://example.com/Obama      http://example.com/President\n",
      "1  http://example.com/Hamilton  http://example.com/Formel1Driver\n"
     ]
    }
   ],
   "source": [
    "snapshot_timestamp = initial_timestamp\n",
    "historical_snapshot = engine.query(query, snapshot_timestamp)\n",
    "print(historical_snapshot)"
   ]
  }
 ],
 "metadata": {
  "kernelspec": {
   "display_name": "Python 3 (ipykernel)",
   "language": "python",
   "name": "python3"
  },
  "language_info": {
   "codemirror_mode": {
    "name": "ipython",
    "version": 3
   },
   "file_extension": ".py",
   "mimetype": "text/x-python",
   "name": "python",
   "nbconvert_exporter": "python",
   "pygments_lexer": "ipython3",
   "version": "3.8.10"
  }
 },
 "nbformat": 4,
 "nbformat_minor": 5
}
