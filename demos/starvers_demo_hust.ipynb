{
 "cells": [
  {
   "cell_type": "code",
   "execution_count": 1,
   "metadata": {},
   "outputs": [
    {
     "name": "stdout",
     "output_type": "stream",
     "text": [
      "Processing /home/fkovacev/Uni/PhD/Semantic_Technologies/starvers\n",
      "  Installing build dependencies ... \u001b[?25ldone\n",
      "\u001b[?25h  Getting requirements to build wheel ... \u001b[?25ldone\n",
      "\u001b[?25h  Preparing metadata (pyproject.toml) ... \u001b[?25ldone\n",
      "\u001b[?25hRequirement already satisfied: rdflib==6.2.0 in /home/fkovacev/.local/lib/python3.8/site-packages (from starvers==0.8.1) (6.2.0)\n",
      "Requirement already satisfied: SPARQLWrapper==2.0.0 in /home/fkovacev/.local/lib/python3.8/site-packages (from starvers==0.8.1) (2.0.0)\n",
      "Requirement already satisfied: pytest==7.1.3 in /home/fkovacev/.local/lib/python3.8/site-packages (from starvers==0.8.1) (7.1.3)\n",
      "Requirement already satisfied: setuptools==65.4.0 in /home/fkovacev/.local/lib/python3.8/site-packages (from starvers==0.8.1) (65.4.0)\n",
      "Requirement already satisfied: tzlocal==4.2 in /home/fkovacev/.local/lib/python3.8/site-packages (from starvers==0.8.1) (4.2)\n",
      "Requirement already satisfied: pandas==1.3.4 in /home/fkovacev/.local/lib/python3.8/site-packages (from starvers==0.8.1) (1.3.4)\n",
      "Requirement already satisfied: python-dateutil>=2.7.3 in /home/fkovacev/anaconda3/envs/baseDSEnv/lib/python3.8/site-packages (from pandas==1.3.4->starvers==0.8.1) (2.8.2)\n",
      "Requirement already satisfied: numpy>=1.17.3 in /home/fkovacev/.local/lib/python3.8/site-packages (from pandas==1.3.4->starvers==0.8.1) (1.24.2)\n",
      "Requirement already satisfied: pytz>=2017.3 in /home/fkovacev/anaconda3/envs/baseDSEnv/lib/python3.8/site-packages (from pandas==1.3.4->starvers==0.8.1) (2022.1)\n",
      "Requirement already satisfied: py>=1.8.2 in /home/fkovacev/.local/lib/python3.8/site-packages (from pytest==7.1.3->starvers==0.8.1) (1.11.0)\n",
      "Requirement already satisfied: attrs>=19.2.0 in /home/fkovacev/anaconda3/envs/baseDSEnv/lib/python3.8/site-packages (from pytest==7.1.3->starvers==0.8.1) (21.4.0)\n",
      "Requirement already satisfied: tomli>=1.0.0 in /home/fkovacev/.local/lib/python3.8/site-packages (from pytest==7.1.3->starvers==0.8.1) (2.0.1)\n",
      "Requirement already satisfied: packaging in /home/fkovacev/anaconda3/envs/baseDSEnv/lib/python3.8/site-packages (from pytest==7.1.3->starvers==0.8.1) (21.3)\n",
      "Requirement already satisfied: iniconfig in /home/fkovacev/.local/lib/python3.8/site-packages (from pytest==7.1.3->starvers==0.8.1) (1.1.1)\n",
      "Requirement already satisfied: pluggy<2.0,>=0.12 in /home/fkovacev/.local/lib/python3.8/site-packages (from pytest==7.1.3->starvers==0.8.1) (1.0.0)\n",
      "Requirement already satisfied: isodate in /home/fkovacev/.local/lib/python3.8/site-packages (from rdflib==6.2.0->starvers==0.8.1) (0.6.1)\n",
      "Requirement already satisfied: pyparsing in /home/fkovacev/anaconda3/envs/baseDSEnv/lib/python3.8/site-packages (from rdflib==6.2.0->starvers==0.8.1) (3.0.9)\n",
      "Requirement already satisfied: backports.zoneinfo in /home/fkovacev/.local/lib/python3.8/site-packages (from tzlocal==4.2->starvers==0.8.1) (0.2.1)\n",
      "Requirement already satisfied: pytz-deprecation-shim in /home/fkovacev/.local/lib/python3.8/site-packages (from tzlocal==4.2->starvers==0.8.1) (0.1.0.post0)\n",
      "Requirement already satisfied: six>=1.5 in /home/fkovacev/anaconda3/envs/baseDSEnv/lib/python3.8/site-packages (from python-dateutil>=2.7.3->pandas==1.3.4->starvers==0.8.1) (1.16.0)\n",
      "Requirement already satisfied: tzdata in /home/fkovacev/.local/lib/python3.8/site-packages (from pytz-deprecation-shim->tzlocal==4.2->starvers==0.8.1) (2022.7)\n",
      "Building wheels for collected packages: starvers\n",
      "  Building wheel for starvers (pyproject.toml) ... \u001b[?25ldone\n",
      "\u001b[?25h  Created wheel for starvers: filename=starvers-0.8.1-py3-none-any.whl size=20097 sha256=60f3278f8c1be1860c19002849a476310bddf2a2d285057782b5c952ce02115e\n",
      "  Stored in directory: /tmp/pip-ephem-wheel-cache-6fji4r07/wheels/af/a9/8e/8e9f16bbaea5ef5c42307f3009a40ba8bf4043c922a78ca700\n",
      "Successfully built starvers\n",
      "Installing collected packages: starvers\n",
      "  Attempting uninstall: starvers\n",
      "    Found existing installation: starvers 0.8.1\n",
      "    Uninstalling starvers-0.8.1:\n",
      "      Successfully uninstalled starvers-0.8.1\n",
      "Successfully installed starvers-0.8.1\n",
      "Note: you may need to restart the kernel to use updated packages.\n"
     ]
    }
   ],
   "source": [
    "pip install ../."
   ]
  },
  {
   "cell_type": "markdown",
   "metadata": {},
   "source": [
    "# Set up connection to RDF store"
   ]
  },
  {
   "cell_type": "code",
   "execution_count": 2,
   "metadata": {},
   "outputs": [],
   "source": [
    "from starvers.starvers import TripleStoreEngine\n",
    "\n",
    "get_endpoint = \"http://ThinkPad-T14s-FK:7200/repositories/hust_demo\"\n",
    "post_endpoint = \"http://ThinkPad-T14s-FK:7200/repositories/hust_demo/statements\"\n",
    "engine = TripleStoreEngine(get_endpoint, post_endpoint)"
   ]
  },
  {
   "cell_type": "markdown",
   "metadata": {},
   "source": [
    "# Clear repository"
   ]
  },
  {
   "cell_type": "code",
   "execution_count": 3,
   "metadata": {},
   "outputs": [
    {
     "data": {
      "text/plain": [
       "<SPARQLWrapper.Wrapper.QueryResult at 0x7f6a1636c220>"
      ]
     },
     "execution_count": 3,
     "metadata": {},
     "output_type": "execute_result"
    }
   ],
   "source": [
    "from SPARQLWrapper import SPARQLWrapper, POST, DIGEST, GET, JSON\n",
    "\n",
    "sparql_post = SPARQLWrapper(post_endpoint)\n",
    "sparql_post.setHTTPAuth(DIGEST)\n",
    "sparql_post.setMethod(POST)\n",
    "\n",
    "clear = \"\"\"\n",
    "clear default\n",
    "\"\"\"\n",
    "sparql_post.setQuery(clear)\n",
    "sparql_post.query()"
   ]
  },
  {
   "cell_type": "markdown",
   "metadata": {},
   "source": [
    "# Load initial dataset"
   ]
  },
  {
   "cell_type": "code",
   "execution_count": 4,
   "metadata": {},
   "outputs": [
    {
     "data": {
      "text/plain": [
       "<SPARQLWrapper.Wrapper.QueryResult at 0x7f6a1675ff70>"
      ]
     },
     "execution_count": 4,
     "metadata": {},
     "output_type": "execute_result"
    }
   ],
   "source": [
    "insert = \"\"\"\n",
    "insert data {\n",
    "    <http://example.com/Nguyen_Van_Anh> <http://example.com/occupation> <http://example.com/tour_guide> .\n",
    "}\n",
    "\n",
    "\"\"\"\n",
    "sparql_post.setQuery(insert)\n",
    "sparql_post.query()"
   ]
  },
  {
   "cell_type": "markdown",
   "metadata": {},
   "source": [
    "# Version all row"
   ]
  },
  {
   "cell_type": "code",
   "execution_count": 5,
   "metadata": {},
   "outputs": [],
   "source": [
    "import tzlocal\n",
    "from datetime import datetime, timedelta, timezone\n",
    "initial_timestamp = datetime(2022, 10, 12, 14, 43, 21, 941000, timezone(timedelta(hours=2)))\n",
    "engine.version_all_rows(initial_timestamp)"
   ]
  },
  {
   "cell_type": "markdown",
   "metadata": {},
   "source": [
    "# Insert new triples"
   ]
  },
  {
   "cell_type": "code",
   "execution_count": 6,
   "metadata": {},
   "outputs": [],
   "source": [
    "new_triples = ['<http://example.com/Le_Van_Thanh> <http://example.com/occupation> <http://example.com/travel_blogger> .',\n",
    "        '<http://example.com/Tran_Thi_Thu> <http://example.com/occupation> <http://example.com/tour_guide> .']\n",
    "engine.insert(new_triples)"
   ]
  },
  {
   "cell_type": "markdown",
   "metadata": {},
   "source": [
    "# Update triples"
   ]
  },
  {
   "cell_type": "code",
   "execution_count": 7,
   "metadata": {},
   "outputs": [],
   "source": [
    "# <http://example.com/Nguyen_Van_Anh> <http://example.com/occupation> <http://example.com/tour_guide>\n",
    "# None None <http://example.com/hotel_manager>\n",
    "\n",
    "\n",
    "engine.update(\n",
    "old_triples=[['<http://example.com/Nguyen_Van_Anh>','<http://example.com/occupation>', '<http://example.com/tour_guide>']],\n",
    "new_triples=[[None, None, '<http://example.com/hotel_manager>']])"
   ]
  },
  {
   "cell_type": "markdown",
   "metadata": {},
   "source": [
    "# Delete triples"
   ]
  },
  {
   "cell_type": "code",
   "execution_count": 8,
   "metadata": {},
   "outputs": [],
   "source": [
    "# <http://example.com/Nguyen_Van_Anh> <http://example.com/occupation> <http://example.com/hotel_manager>\n",
    "\n",
    "engine.outdate(['<http://example.com/Nguyen_Van_Anh> <http://example.com/occupation> <http://example.com/hotel_manager> .'])"
   ]
  },
  {
   "cell_type": "markdown",
   "metadata": {},
   "source": [
    "# Query actual data"
   ]
  },
  {
   "cell_type": "code",
   "execution_count": 9,
   "metadata": {},
   "outputs": [
    {
     "name": "stdout",
     "output_type": "stream",
     "text": [
      "                            person                         occupation\n",
      "0  http://example.com/Le_Van_Thanh  http://example.com/travel_blogger\n",
      "1  http://example.com/Tran_Thi_Thu      http://example.com/tour_guide\n"
     ]
    }
   ],
   "source": [
    "query = \"\"\"\n",
    "PREFIX vers: <https://github.com/GreenfishK/DataCitation/versioning/>\n",
    "\n",
    "SELECT ?person ?occupation {\n",
    "    ?person <http://example.com/occupation> ?occupation .\n",
    "}\n",
    "\"\"\"\n",
    "\n",
    "actual_snapshot = engine.query(query)\n",
    "print(actual_snapshot)"
   ]
  },
  {
   "cell_type": "markdown",
   "metadata": {},
   "source": [
    "# Query historical data"
   ]
  },
  {
   "cell_type": "code",
   "execution_count": 10,
   "metadata": {},
   "outputs": [
    {
     "name": "stdout",
     "output_type": "stream",
     "text": [
      "                              person                     occupation\n",
      "0  http://example.com/Nguyen_Van_Anh  http://example.com/tour_guide\n"
     ]
    }
   ],
   "source": [
    "snapshot_timestamp = initial_timestamp\n",
    "historical_snapshot = engine.query(query, snapshot_timestamp)\n",
    "print(historical_snapshot)"
   ]
  },
  {
   "cell_type": "markdown",
   "metadata": {},
   "source": [
    "# Timestamped SPARQL-star query "
   ]
  },
  {
   "cell_type": "code",
   "execution_count": 11,
   "metadata": {},
   "outputs": [
    {
     "name": "stdout",
     "output_type": "stream",
     "text": [
      "\n",
      "PREFIX vers: <https://github.com/GreenfishK/DataCitation/versioning/>\n",
      "PREFIX xsd: <http://www.w3.org/2001/XMLSchema#>\n",
      "\n",
      "SELECT ?person ?occupation{<< <<?person <http://example.com/occupation> ?occupation>> vers:valid_from ?valid_from_1 >> vers:valid_until ?valid_until_1.\n",
      "filter(?valid_from_1 <= ?tsBGP_0 && ?tsBGP_0 < ?valid_until_1)\n",
      "\n",
      "bind(\"2023-03-09T10:36:40.638+00:00\"^^xsd:dateTime as ?tsBGP_0)}\n"
     ]
    }
   ],
   "source": [
    "from starvers.starvers import timestamp_query\n",
    "timestamped_query, timestamp = timestamp_query(query)\n",
    "print(timestamped_query)"
   ]
  },
  {
   "cell_type": "code",
   "execution_count": 12,
   "metadata": {},
   "outputs": [
    {
     "name": "stdout",
     "output_type": "stream",
     "text": [
      "2023-03-09T10:36:40.638+00:00\n"
     ]
    }
   ],
   "source": [
    "print(timestamp)"
   ]
  },
  {
   "cell_type": "code",
   "execution_count": null,
   "metadata": {},
   "outputs": [],
   "source": []
  }
 ],
 "metadata": {
  "kernelspec": {
   "display_name": "Python 3 (ipykernel)",
   "language": "python",
   "name": "python3"
  },
  "language_info": {
   "codemirror_mode": {
    "name": "ipython",
    "version": 3
   },
   "file_extension": ".py",
   "mimetype": "text/x-python",
   "name": "python",
   "nbconvert_exporter": "python",
   "pygments_lexer": "ipython3",
   "version": "3.8.12"
  }
 },
 "nbformat": 4,
 "nbformat_minor": 5
}
