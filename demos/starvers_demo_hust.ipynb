{
 "cells": [
  {
   "cell_type": "code",
   "execution_count": 33,
   "metadata": {},
   "outputs": [],
   "source": [
    "# Install starvers on your local machine with pip install"
   ]
  },
  {
   "cell_type": "markdown",
   "metadata": {},
   "source": [
    "# Set up connection to RDF store"
   ]
  },
  {
   "cell_type": "code",
   "execution_count": 2,
   "id": "ffdaf92d",
   "metadata": {},
   "outputs": [],
   "source": [
    "from starvers.starvers import TripleStoreEngine\n",
    "\n",
    "get_endpoint = \"http://ThinkPad-T14s-FK:7200/repositories/hust_demo\"\n",
    "post_endpoint = \"http://ThinkPad-T14s-FK:7200/repositories/hust_demo/statements\"\n",
    "engine = TripleStoreEngine(get_endpoint, post_endpoint)"
   ]
  },
  {
   "cell_type": "markdown",
   "id": "8f8019eb",
   "metadata": {},
   "source": [
    "# Clear repository"
   ]
  },
  {
   "cell_type": "code",
   "execution_count": 3,
   "id": "07381a9f",
   "metadata": {},
   "outputs": [
    {
     "data": {
      "text/plain": [
       "<SPARQLWrapper.Wrapper.QueryResult at 0x7ff220323e50>"
      ]
     },
     "execution_count": 3,
     "metadata": {},
     "output_type": "execute_result"
    }
   ],
   "source": [
    "from SPARQLWrapper import SPARQLWrapper, POST, DIGEST, GET, JSON\n",
    "\n",
    "sparql_post = SPARQLWrapper(post_endpoint)\n",
    "sparql_post.setHTTPAuth(DIGEST)\n",
    "sparql_post.setMethod(POST)\n",
    "\n",
    "clear = \"\"\"\n",
    "clear default\n",
    "\"\"\"\n",
    "sparql_post.setQuery(clear)\n",
    "sparql_post.query()"
   ]
  },
  {
   "cell_type": "markdown",
   "id": "6b565cf7",
   "metadata": {},
   "source": [
    "# Load initial dataset"
   ]
  },
  {
   "cell_type": "code",
   "execution_count": 4,
   "id": "1bc11fe9",
   "metadata": {},
   "outputs": [
    {
     "data": {
      "text/plain": [
       "<SPARQLWrapper.Wrapper.QueryResult at 0x7ff220323a60>"
      ]
     },
     "execution_count": 4,
     "metadata": {},
     "output_type": "execute_result"
    }
   ],
   "source": [
    "insert = \"\"\"\n",
    "insert data {\n",
    "    <http://example.com/Nguyen_Van_Anh> <http://example.com/occupation> <http://example.com/tour_guide> .\n",
    "}\n",
    "\n",
    "\"\"\"\n",
    "sparql_post.setQuery(insert)\n",
    "sparql_post.query()"
   ]
  },
  {
   "cell_type": "markdown",
   "id": "076b4638",
   "metadata": {},
   "source": [
    "# Version all row"
   ]
  },
  {
   "cell_type": "code",
   "execution_count": 5,
   "id": "09243ccb",
   "metadata": {},
   "outputs": [],
   "source": [
    "import tzlocal\n",
    "from datetime import datetime, timedelta, timezone\n",
    "initial_timestamp = datetime(2022, 10, 12, 14, 43, 21, 941000, timezone(timedelta(hours=2)))\n",
    "engine.version_all_triples(initial_timestamp)"
   ]
  },
  {
   "cell_type": "markdown",
   "id": "d299e5de",
   "metadata": {},
   "source": [
    "# Insert new triples"
   ]
  },
  {
   "cell_type": "code",
   "execution_count": 6,
   "id": "c0937e8a",
   "metadata": {},
   "outputs": [],
   "source": [
    "new_triples = ['<http://example.com/Le_Van_Thanh> <http://example.com/occupation> <http://example.com/travel_blogger> .',\n",
    "        '<http://example.com/Tran_Thi_Thu> <http://example.com/occupation> <http://example.com/tour_guide> .']\n",
    "engine.insert(new_triples)"
   ]
  },
  {
   "cell_type": "markdown",
   "id": "8f50eac4",
   "metadata": {},
   "source": [
    "# Update triples"
   ]
  },
  {
   "cell_type": "code",
   "execution_count": 7,
   "id": "923719ae",
   "metadata": {},
   "outputs": [],
   "source": [
    "# <http://example.com/Nguyen_Van_Anh> <http://example.com/occupation> <http://example.com/tour_guide>\n",
    "# None None <http://example.com/hotel_manager>\n",
    "\n",
    "\n",
    "engine.update(\n",
    "old_triples=[['<http://example.com/Nguyen_Van_Anh>','<http://example.com/occupation>', '<http://example.com/tour_guide>'],\n",
    "             ['<http://example.com/Tran_Thi_Thu>','<http://example.com/occupation>', '<http://example.com/tour_guide>']],\n",
    "new_triples=[[None, None, '<http://example.com/hotel_manager>'],\n",
    "             [None, None, '<http://example.com/IT_consultant>']],\n",
    "batch_size=1)"
   ]
  },
  {
   "cell_type": "markdown",
   "id": "8c8b02d7",
   "metadata": {},
   "source": [
    "# Delete triples"
   ]
  },
  {
   "cell_type": "code",
   "execution_count": 8,
   "id": "4ac3fdb7",
   "metadata": {},
   "outputs": [],
   "source": [
    "# <http://example.com/Nguyen_Van_Anh> <http://example.com/occupation> <http://example.com/hotel_manager>\n",
    "\n",
    "engine.outdate(['<http://example.com/Nguyen_Van_Anh> <http://example.com/occupation> <http://example.com/hotel_manager> .'])"
   ]
  },
  {
   "cell_type": "markdown",
   "id": "59156d84",
   "metadata": {},
   "source": [
    "# Query actual data"
   ]
  },
  {
   "cell_type": "code",
   "execution_count": 9,
   "id": "907437b0",
   "metadata": {},
   "outputs": [
    {
     "name": "stdout",
     "output_type": "stream",
     "text": [
      "                            person                         occupation\n",
      "0  http://example.com/Le_Van_Thanh  http://example.com/travel_blogger\n",
      "1  http://example.com/Tran_Thi_Thu   http://example.com/IT_consultant\n"
     ]
    }
   ],
   "source": [
    "query = \"\"\"\n",
    "PREFIX vers: <https://github.com/GreenfishK/DataCitation/versioning/>\n",
    "\n",
    "SELECT ?person ?occupation {\n",
    "    ?person <http://example.com/occupation> ?occupation .\n",
    "}\n",
    "\"\"\"\n",
    "\n",
    "actual_snapshot = engine.query(query)\n",
    "print(actual_snapshot)"
   ]
  },
  {
   "cell_type": "markdown",
   "id": "7d68be51",
   "metadata": {},
   "source": [
    "# Query historical data"
   ]
  },
  {
   "cell_type": "code",
   "execution_count": 10,
   "id": "cdb95bf2",
   "metadata": {},
   "outputs": [
    {
     "name": "stdout",
     "output_type": "stream",
     "text": [
      "                              person                     occupation\n",
      "0  http://example.com/Nguyen_Van_Anh  http://example.com/tour_guide\n"
     ]
    }
   ],
   "source": [
    "snapshot_timestamp = initial_timestamp\n",
    "historical_snapshot = engine.query(query, snapshot_timestamp)\n",
    "print(historical_snapshot)"
   ]
  },
  {
   "cell_type": "markdown",
   "metadata": {},
   "source": [
    "# Timestamped SPARQL-star query "
   ]
  },
  {
   "cell_type": "code",
   "execution_count": 11,
   "metadata": {},
   "outputs": [
    {
     "name": "stdout",
     "output_type": "stream",
     "text": [
      "\n",
      "PREFIX vers: <https://github.com/GreenfishK/DataCitation/versioning/>\n",
      "PREFIX xsd: <http://www.w3.org/2001/XMLSchema#>\n",
      "\n",
      "SELECT ?person ?occupation{<< <<?person <http://example.com/occupation> ?occupation>> vers:valid_from ?valid_from_1 >> vers:valid_until ?valid_until_1.\n",
      "filter(?valid_from_1 <= ?tsBGP_0 && ?tsBGP_0 < ?valid_until_1)\n",
      "\n",
      "bind(\"2023-03-13T12:38:06.329+00:00\"^^xsd:dateTime as ?tsBGP_0)}\n"
     ]
    }
   ],
   "source": [
    "from starvers.starvers import timestamp_query\n",
    "timestamped_query, timestamp = timestamp_query(query)\n",
    "print(timestamped_query)"
   ]
  },
  {
   "cell_type": "code",
   "execution_count": 12,
   "metadata": {},
   "outputs": [
    {
     "name": "stdout",
     "output_type": "stream",
     "text": [
      "2023-03-13T12:38:06.329+00:00\n"
     ]
    }
   ],
   "source": [
    "print(timestamp)"
   ]
  },
  {
   "cell_type": "code",
   "execution_count": null,
   "metadata": {},
   "outputs": [],
   "source": []
  }
 ],
 "metadata": {
  "kernelspec": {
   "display_name": "Python 3 (ipykernel)",
   "language": "python",
   "name": "python3"
  },
  "language_info": {
   "codemirror_mode": {
    "name": "ipython",
    "version": 3
   },
   "file_extension": ".py",
   "mimetype": "text/x-python",
   "name": "python",
   "nbconvert_exporter": "python",
   "pygments_lexer": "ipython3",
   "version": "3.8.12"
  }
 },
 "nbformat": 4,
 "nbformat_minor": 5
}
